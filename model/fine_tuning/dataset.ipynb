{
 "cells": [
  {
   "cell_type": "markdown",
   "metadata": {},
   "source": [
    "## 1. Import Modules"
   ]
  },
  {
   "cell_type": "code",
   "execution_count": null,
   "metadata": {},
   "outputs": [],
   "source": [
    "import pandas as pd\n",
    "from langchain_openai import ChatOpenAI\n",
    "from langchain_core.messages import HumanMessage, SystemMessage\n",
    "from config.secret_keys import OPENAI_API_KEY\n",
    "import pandas as pd\n",
    "from tqdm import tqdm"
   ]
  },
  {
   "cell_type": "markdown",
   "metadata": {},
   "source": [
    "## 2. Load Raw Data"
   ]
  },
  {
   "cell_type": "code",
   "execution_count": 4,
   "metadata": {},
   "outputs": [
    {
     "data": {
      "text/plain": [
       "224"
      ]
     },
     "execution_count": 4,
     "metadata": {},
     "output_type": "execute_result"
    }
   ],
   "source": [
    "texts = pd.read_csv(\"./data/texts.csv\")\n",
    "\n",
    "texts = list(texts[\"text\"])\n",
    "\n",
    "len(texts)"
   ]
  },
  {
   "cell_type": "markdown",
   "metadata": {},
   "source": [
    "## 3. Generate Summarization/Expansion Dataset"
   ]
  },
  {
   "cell_type": "code",
   "execution_count": null,
   "metadata": {},
   "outputs": [],
   "source": [
    "llm = ChatOpenAI(\n",
    "    model=\"gpt-4o\",\n",
    "    api_key=OPENAI_API_KEY,\n",
    "    temperature=0\n",
    ")\n",
    "\n",
    "def summarize_text(llm, text):\n",
    "    messages = [\n",
    "        SystemMessage(content=\"너는 전문적인 요약가야. 주어진 텍스트를 간결하게 요약해 줘.\"),\n",
    "        HumanMessage(content=text)\n",
    "    ]\n",
    "    \n",
    "    response = llm(messages)\n",
    "\n",
    "    return response.content\n",
    "\n",
    "def expansion_text(llm, text):\n",
    "    messages = [\n",
    "        SystemMessage(content=\"너는 전문적인 문장 분량 확장자야. 주어진 텍스트의 분량을 사실적으로 늘려줘.\"),\n",
    "        HumanMessage(content=text)\n",
    "    ]\n",
    "    \n",
    "    response = llm(messages)\n",
    "\n",
    "    return response.content"
   ]
  },
  {
   "cell_type": "code",
   "execution_count": null,
   "metadata": {},
   "outputs": [
    {
     "name": "stderr",
     "output_type": "stream",
     "text": [
      "100%|██████████| 224/224 [09:46<00:00,  2.62s/it]\n"
     ]
    }
   ],
   "source": [
    "summary_dataset = []\n",
    "\n",
    "for text in tqdm(texts):\n",
    "    summary_dataset.append([text, summarize_text(llm, text)])\n",
    "\n",
    "summary_dataset = pd.DataFrame(summary_dataset, columns=[\"text\", \"target\"])\n",
    "\n",
    "for idx, text in enumerate(summary_dataset[\"text\"]):\n",
    "    summary_dataset.loc[idx, \"text\"] = text + \" 이 텍스트를 요약해줘.\""
   ]
  },
  {
   "cell_type": "code",
   "execution_count": null,
   "metadata": {},
   "outputs": [
    {
     "name": "stderr",
     "output_type": "stream",
     "text": [
      "100%|██████████| 224/224 [26:47<00:00,  7.17s/it]\n"
     ]
    }
   ],
   "source": [
    "expansion_dataset = []\n",
    "\n",
    "for text in tqdm(texts):\n",
    "    expansion_dataset.append([text, expansion_text(llm, text)])\n",
    "\n",
    "expansion_dataset = pd.DataFrame(expansion_dataset, columns=[\"text\", \"target\"])\n",
    "\n",
    "for idx, text in enumerate(expansion_dataset[\"text\"]):\n",
    "    expansion_dataset.loc[idx, \"text\"] = text + \" 이 텍스트를 확장해줘.\""
   ]
  },
  {
   "cell_type": "code",
   "execution_count": 84,
   "metadata": {},
   "outputs": [],
   "source": [
    "summary_dataset.to_csv(\"./data/summary_dataset.csv\", index=False, encoding=\"utf-8\")\n",
    "expansion_dataset.to_csv(\"./data/expansion_dataset.csv\", index=False, encoding=\"utf-8\")"
   ]
  },
  {
   "cell_type": "markdown",
   "metadata": {},
   "source": [
    "## 4. Split Train/Test Dataset"
   ]
  },
  {
   "cell_type": "code",
   "execution_count": 6,
   "metadata": {},
   "outputs": [],
   "source": [
    "summary_dataset = pd.read_csv(\"./data/summary_dataset.csv\")\n",
    "expansion_dataset = pd.read_csv(\"./data/expansion_dataset.csv\")"
   ]
  },
  {
   "cell_type": "markdown",
   "metadata": {},
   "source": [
    "### 4-1. Suumarization Data EDA"
   ]
  },
  {
   "cell_type": "code",
   "execution_count": 13,
   "metadata": {},
   "outputs": [
    {
     "data": {
      "text/plain": [
       "count                                                   224\n",
       "unique                                                  223\n",
       "top       현대자동차그룹의 계열사로, 그룹 내 종합물류 업무를 전담한다. 2001년 한국로지텍...\n",
       "freq                                                      2\n",
       "Name: text, dtype: object"
      ]
     },
     "execution_count": 13,
     "metadata": {},
     "output_type": "execute_result"
    }
   ],
   "source": [
    "summary_dataset[\"text\"].describe()"
   ]
  },
  {
   "cell_type": "markdown",
   "metadata": {},
   "source": [
    "### 4-2. Split Data"
   ]
  },
  {
   "cell_type": "code",
   "execution_count": 7,
   "metadata": {},
   "outputs": [],
   "source": [
    "from sklearn.model_selection import train_test_split\n",
    "\n",
    "x_train_summary, x_test_summary, y_train_summary, y_test_summary = train_test_split(\n",
    "    summary_dataset[\"text\"], summary_dataset[\"target\"], test_size=0.09, random_state=42\n",
    ")\n",
    "\n",
    "x_train_expansion, x_test_expansion, y_train_expansion, y_test_expansion = train_test_split(\n",
    "    expansion_dataset[\"text\"], expansion_dataset[\"target\"], test_size=0.09, random_state=42\n",
    ")"
   ]
  },
  {
   "cell_type": "code",
   "execution_count": 8,
   "metadata": {},
   "outputs": [],
   "source": [
    "x_train_summary = pd.DataFrame(x_train_summary)\n",
    "y_train_summary = pd.DataFrame(y_train_summary)\n",
    "x_test_summary = pd.DataFrame(x_test_summary)\n",
    "y_test_summary = pd.DataFrame(y_test_summary)\n",
    "\n",
    "x_train_expansion = pd.DataFrame(x_train_expansion)\n",
    "y_train_expansion = pd.DataFrame(y_train_expansion)\n",
    "x_test_expansion = pd.DataFrame(x_test_expansion)\n",
    "y_test_expansion = pd.DataFrame(y_test_expansion)"
   ]
  },
  {
   "cell_type": "markdown",
   "metadata": {},
   "source": [
    "### 4-3. Train Dataset EDA"
   ]
  },
  {
   "cell_type": "code",
   "execution_count": 9,
   "metadata": {},
   "outputs": [
    {
     "data": {
      "text/html": [
       "<div>\n",
       "<style scoped>\n",
       "    .dataframe tbody tr th:only-of-type {\n",
       "        vertical-align: middle;\n",
       "    }\n",
       "\n",
       "    .dataframe tbody tr th {\n",
       "        vertical-align: top;\n",
       "    }\n",
       "\n",
       "    .dataframe thead th {\n",
       "        text-align: right;\n",
       "    }\n",
       "</style>\n",
       "<table border=\"1\" class=\"dataframe\">\n",
       "  <thead>\n",
       "    <tr style=\"text-align: right;\">\n",
       "      <th></th>\n",
       "      <th>text</th>\n",
       "    </tr>\n",
       "  </thead>\n",
       "  <tbody>\n",
       "    <tr>\n",
       "      <th>18</th>\n",
       "      <td>삼성바이오에피스는 2019년 흑자 전환에 성공한 후 매년 두 자릿수의 영업이익률을 ...</td>\n",
       "    </tr>\n",
       "    <tr>\n",
       "      <th>79</th>\n",
       "      <td>한국보건산업진흥원이 발간한 ‘글로벌 제약바이오 산업동향’ 보고서에 따르면 전 세계 ...</td>\n",
       "    </tr>\n",
       "    <tr>\n",
       "      <th>141</th>\n",
       "      <td>시장이 큰 만큼 스텔라라 바이오시밀러 시장에 뛰어든 기업 또한 국내외로 많다. 국내...</td>\n",
       "    </tr>\n",
       "    <tr>\n",
       "      <th>147</th>\n",
       "      <td>동아에스티의 해외 매출 중 가장 큰 비중을 차지하는 것은 ‘박카스’다. 2023년 ...</td>\n",
       "    </tr>\n",
       "    <tr>\n",
       "      <th>143</th>\n",
       "      <td>동아에스티가 2013년부터 메이지세이카파마와 공동 개발해 온 스텔라라 바이오시밀러 ...</td>\n",
       "    </tr>\n",
       "    <tr>\n",
       "      <th>...</th>\n",
       "      <td>...</td>\n",
       "    </tr>\n",
       "    <tr>\n",
       "      <th>106</th>\n",
       "      <td>컬러강판 시장의 경쟁이 격화되고 있다. 철강에 디자인을 적용해 다양한 소재의 무늬와...</td>\n",
       "    </tr>\n",
       "    <tr>\n",
       "      <th>14</th>\n",
       "      <td>그동안 축적된 기술력을 토대로 최근 급격하게 성장하고 있는 OLED 디스플레이에 적...</td>\n",
       "    </tr>\n",
       "    <tr>\n",
       "      <th>92</th>\n",
       "      <td>전자 제품의 판매는 사회문화적 변화를 비롯해 미세먼지, 황사 등 외부 환경 변화에 ...</td>\n",
       "    </tr>\n",
       "    <tr>\n",
       "      <th>179</th>\n",
       "      <td>우아한형제들은 2010년 6월 배달 앱 ‘배달의민족’을 론칭했다. 현재 국내 1등 ...</td>\n",
       "    </tr>\n",
       "    <tr>\n",
       "      <th>102</th>\n",
       "      <td>경북 구미 불산 유출사고, 가습기 살균제 피해와 기후위기 등으로 촉발된 화학물질 평...</td>\n",
       "    </tr>\n",
       "  </tbody>\n",
       "</table>\n",
       "<p>203 rows × 1 columns</p>\n",
       "</div>"
      ],
      "text/plain": [
       "                                                  text\n",
       "18   삼성바이오에피스는 2019년 흑자 전환에 성공한 후 매년 두 자릿수의 영업이익률을 ...\n",
       "79   한국보건산업진흥원이 발간한 ‘글로벌 제약바이오 산업동향’ 보고서에 따르면 전 세계 ...\n",
       "141  시장이 큰 만큼 스텔라라 바이오시밀러 시장에 뛰어든 기업 또한 국내외로 많다. 국내...\n",
       "147  동아에스티의 해외 매출 중 가장 큰 비중을 차지하는 것은 ‘박카스’다. 2023년 ...\n",
       "143  동아에스티가 2013년부터 메이지세이카파마와 공동 개발해 온 스텔라라 바이오시밀러 ...\n",
       "..                                                 ...\n",
       "106  컬러강판 시장의 경쟁이 격화되고 있다. 철강에 디자인을 적용해 다양한 소재의 무늬와...\n",
       "14   그동안 축적된 기술력을 토대로 최근 급격하게 성장하고 있는 OLED 디스플레이에 적...\n",
       "92   전자 제품의 판매는 사회문화적 변화를 비롯해 미세먼지, 황사 등 외부 환경 변화에 ...\n",
       "179  우아한형제들은 2010년 6월 배달 앱 ‘배달의민족’을 론칭했다. 현재 국내 1등 ...\n",
       "102  경북 구미 불산 유출사고, 가습기 살균제 피해와 기후위기 등으로 촉발된 화학물질 평...\n",
       "\n",
       "[203 rows x 1 columns]"
      ]
     },
     "execution_count": 9,
     "metadata": {},
     "output_type": "execute_result"
    }
   ],
   "source": [
    "x_train_summary"
   ]
  },
  {
   "cell_type": "markdown",
   "metadata": {},
   "source": [
    "## 5. Transform Dataset into Fine-Tuning Prompt"
   ]
  },
  {
   "cell_type": "code",
   "execution_count": 87,
   "metadata": {},
   "outputs": [],
   "source": [
    "def generate_prompt(texts, targets):\n",
    "    output_texts = []\n",
    "    for text, target in zip(texts[\"text\"], targets[\"target\"]):\n",
    "        prompt = f\"### Instruction: {text}\\n\\n### Response: {target}<eos>\"\n",
    "        output_texts.append(prompt)\n",
    "    return output_texts"
   ]
  },
  {
   "cell_type": "code",
   "execution_count": 88,
   "metadata": {},
   "outputs": [],
   "source": [
    "train_summary = generate_prompt(x_train_summary, y_train_summary)\n",
    "train_expansion = generate_prompt(x_train_expansion, y_train_expansion)\n",
    "test_summary = generate_prompt(x_test_summary, y_test_summary)\n",
    "test_expansion = generate_prompt(x_test_expansion, y_test_expansion)\n",
    "\n",
    "train_summary = pd.DataFrame(train_summary, columns=[\"text\"])\n",
    "train_expansion = pd.DataFrame(train_expansion, columns=[\"text\"])\n",
    "test_summary = pd.DataFrame(test_summary, columns=[\"text\"])\n",
    "test_expansion = pd.DataFrame(test_expansion, columns=[\"text\"])\n",
    "\n",
    "train_dataset = pd.concat([train_summary, train_expansion], axis=0)\n",
    "test_dataset = pd.concat([test_summary, test_expansion], axis=0)"
   ]
  },
  {
   "cell_type": "code",
   "execution_count": 89,
   "metadata": {},
   "outputs": [
    {
     "data": {
      "text/html": [
       "<div>\n",
       "<style scoped>\n",
       "    .dataframe tbody tr th:only-of-type {\n",
       "        vertical-align: middle;\n",
       "    }\n",
       "\n",
       "    .dataframe tbody tr th {\n",
       "        vertical-align: top;\n",
       "    }\n",
       "\n",
       "    .dataframe thead th {\n",
       "        text-align: right;\n",
       "    }\n",
       "</style>\n",
       "<table border=\"1\" class=\"dataframe\">\n",
       "  <thead>\n",
       "    <tr style=\"text-align: right;\">\n",
       "      <th></th>\n",
       "      <th>text</th>\n",
       "    </tr>\n",
       "  </thead>\n",
       "  <tbody>\n",
       "    <tr>\n",
       "      <th>0</th>\n",
       "      <td>### Instruction: 삼성바이오에피스는 2019년 흑자 전환에 성공한 후 ...</td>\n",
       "    </tr>\n",
       "    <tr>\n",
       "      <th>1</th>\n",
       "      <td>### Instruction: 한국보건산업진흥원이 발간한 ‘글로벌 제약바이오 산업동...</td>\n",
       "    </tr>\n",
       "    <tr>\n",
       "      <th>2</th>\n",
       "      <td>### Instruction: 시장이 큰 만큼 스텔라라 바이오시밀러 시장에 뛰어든 ...</td>\n",
       "    </tr>\n",
       "    <tr>\n",
       "      <th>3</th>\n",
       "      <td>### Instruction: 동아에스티의 해외 매출 중 가장 큰 비중을 차지하는 ...</td>\n",
       "    </tr>\n",
       "    <tr>\n",
       "      <th>4</th>\n",
       "      <td>### Instruction: 동아에스티가 2013년부터 메이지세이카파마와 공동 개...</td>\n",
       "    </tr>\n",
       "    <tr>\n",
       "      <th>...</th>\n",
       "      <td>...</td>\n",
       "    </tr>\n",
       "    <tr>\n",
       "      <th>198</th>\n",
       "      <td>### Instruction: 컬러강판 시장의 경쟁이 격화되고 있다. 철강에 디자인...</td>\n",
       "    </tr>\n",
       "    <tr>\n",
       "      <th>199</th>\n",
       "      <td>### Instruction: 그동안 축적된 기술력을 토대로 최근 급격하게 성장하고...</td>\n",
       "    </tr>\n",
       "    <tr>\n",
       "      <th>200</th>\n",
       "      <td>### Instruction: 전자 제품의 판매는 사회문화적 변화를 비롯해 미세먼지...</td>\n",
       "    </tr>\n",
       "    <tr>\n",
       "      <th>201</th>\n",
       "      <td>### Instruction: 우아한형제들은 2010년 6월 배달 앱 ‘배달의민족’...</td>\n",
       "    </tr>\n",
       "    <tr>\n",
       "      <th>202</th>\n",
       "      <td>### Instruction: 경북 구미 불산 유출사고, 가습기 살균제 피해와 기후...</td>\n",
       "    </tr>\n",
       "  </tbody>\n",
       "</table>\n",
       "<p>406 rows × 1 columns</p>\n",
       "</div>"
      ],
      "text/plain": [
       "                                                  text\n",
       "0    ### Instruction: 삼성바이오에피스는 2019년 흑자 전환에 성공한 후 ...\n",
       "1    ### Instruction: 한국보건산업진흥원이 발간한 ‘글로벌 제약바이오 산업동...\n",
       "2    ### Instruction: 시장이 큰 만큼 스텔라라 바이오시밀러 시장에 뛰어든 ...\n",
       "3    ### Instruction: 동아에스티의 해외 매출 중 가장 큰 비중을 차지하는 ...\n",
       "4    ### Instruction: 동아에스티가 2013년부터 메이지세이카파마와 공동 개...\n",
       "..                                                 ...\n",
       "198  ### Instruction: 컬러강판 시장의 경쟁이 격화되고 있다. 철강에 디자인...\n",
       "199  ### Instruction: 그동안 축적된 기술력을 토대로 최근 급격하게 성장하고...\n",
       "200  ### Instruction: 전자 제품의 판매는 사회문화적 변화를 비롯해 미세먼지...\n",
       "201  ### Instruction: 우아한형제들은 2010년 6월 배달 앱 ‘배달의민족’...\n",
       "202  ### Instruction: 경북 구미 불산 유출사고, 가습기 살균제 피해와 기후...\n",
       "\n",
       "[406 rows x 1 columns]"
      ]
     },
     "execution_count": 89,
     "metadata": {},
     "output_type": "execute_result"
    }
   ],
   "source": [
    "train_dataset"
   ]
  },
  {
   "cell_type": "code",
   "execution_count": 90,
   "metadata": {},
   "outputs": [],
   "source": [
    "train_dataset.to_csv(\"./data/train_dataset.csv\", index=False, encoding='utf-8')\n",
    "test_dataset.to_csv(\"./data/test_dataset.csv\", index=False, encoding='utf-8')"
   ]
  }
 ],
 "metadata": {
  "kernelspec": {
   "display_name": "finpilot",
   "language": "python",
   "name": "python3"
  },
  "language_info": {
   "codemirror_mode": {
    "name": "ipython",
    "version": 3
   },
   "file_extension": ".py",
   "mimetype": "text/x-python",
   "name": "python",
   "nbconvert_exporter": "python",
   "pygments_lexer": "ipython3",
   "version": "3.11.11"
  }
 },
 "nbformat": 4,
 "nbformat_minor": 2
}
